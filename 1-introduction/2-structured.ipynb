{
 "cells": [
  {
   "cell_type": "markdown",
   "metadata": {},
   "source": [
    "### Attention\n",
    "Not all models support structured ouputs.\n",
    "Be sure that the model is an \"instructor\" model.\n",
    "\n",
    "ApenAi [doc](https://platform.openai.com/docs/guides/structured-outputs?format=parse)"
   ]
  },
  {
   "cell_type": "code",
   "execution_count": 1,
   "metadata": {},
   "outputs": [],
   "source": [
    "from openai import OpenAI\n",
    "from pydantic import BaseModel\n",
    "\n",
    "client = OpenAI(\n",
    "    base_url = 'http://localhost:11434/v1',\n",
    "    api_key='ollama', \n",
    ")"
   ]
  },
  {
   "cell_type": "code",
   "execution_count": 2,
   "metadata": {},
   "outputs": [],
   "source": [
    "# --------------------------------------------------------------\n",
    "# Step 1: Define the response format in a Pydantic model\n",
    "# --------------------------------------------------------------\n",
    "\n",
    "# Exploit pydantic library to be sure that retuned data is correct format and type\n",
    "class CalendarEvent(BaseModel):\n",
    "    name: str\n",
    "    date: str\n",
    "    participants: list[str]"
   ]
  },
  {
   "cell_type": "code",
   "execution_count": 6,
   "metadata": {},
   "outputs": [
    {
     "name": "stdout",
     "output_type": "stream",
     "text": [
      "name='Go to Science Fair' date='Friday' participants=['Alice', 'Bob']\n",
      "<class '__main__.CalendarEvent'>\n",
      "Go to Science Fair\n",
      "Friday\n",
      "['Alice', 'Bob']\n"
     ]
    }
   ],
   "source": [
    "# --------------------------------------------------------------\n",
    "# Step 2: Call the model\n",
    "# --------------------------------------------------------------\n",
    "\n",
    "completion = client.beta.chat.completions.parse(\n",
    "    model=\"deepseek-r1:8b\",\n",
    "    messages=[\n",
    "        {\n",
    "            \"role\": \"system\", \n",
    "            \"content\": \"Extract the event information.\"\n",
    "        },\n",
    "        {\n",
    "            \"role\": \"user\",\n",
    "            \"content\": \"Alice and Bob are going to a science fair on Friday.\",\n",
    "        },\n",
    "    ],\n",
    "    response_format=CalendarEvent, # Specfy output format\n",
    ")\n",
    "\n",
    "# --------------------------------------------------------------\n",
    "# Step 3: Parse the response\n",
    "# --------------------------------------------------------------\n",
    "\n",
    "event = completion.choices[0].message.parsed\n",
    "print(event)\n",
    "print(type(event))\n",
    "print(event.name)\n",
    "print(event.date)\n",
    "print(event.participants)"
   ]
  }
 ],
 "metadata": {
  "kernelspec": {
   "display_name": "temp",
   "language": "python",
   "name": "python3"
  },
  "language_info": {
   "codemirror_mode": {
    "name": "ipython",
    "version": 3
   },
   "file_extension": ".py",
   "mimetype": "text/x-python",
   "name": "python",
   "nbconvert_exporter": "python",
   "pygments_lexer": "ipython3",
   "version": "3.10.16"
  }
 },
 "nbformat": 4,
 "nbformat_minor": 2
}
