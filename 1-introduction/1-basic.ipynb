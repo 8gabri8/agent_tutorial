{
 "cells": [
  {
   "cell_type": "markdown",
   "metadata": {},
   "source": [
    "# Introduction\n",
    "\n",
    "Preliminary steps: \n",
    "1. Create a Docker container that runs ollama with an LLM model (e.g. DeepSeek). Pay attention to map the port to the contianer to a port of the localhost in order to access to ollama server inside the container from outside.\n",
    "2. Before runnign the script be sure that the container is up.\n",
    "\n",
    "\n",
    "Tutorial code adapted from [here](https://github.com/daveebbelaar/ai-cookbook/blob/main/patterns/workflows/1-introduction/2-structured.py)."
   ]
  },
  {
   "cell_type": "code",
   "execution_count": 5,
   "metadata": {},
   "outputs": [
    {
     "name": "stdout",
     "output_type": "stream",
     "text": [
      "<think>\n",
      "Okay, so I need to figure out how to write the first verse of \"Die Forelle\" by Franz Schubert. Let me start by recalling what I know about this piece.\n",
      "\n",
      "First off, \"Die Forelle\" is a song from Schubert's song cycle \"Die Schönheitskönigin\" (The Beauty Queen). It was composed in 1820 and is part of the brid Auxiliary vocal works. This means it's meant for an opera or similar vocal performance, not necessarily a standalone song.\n",
      "\n",
      "Now, I'm trying to remember the lyrics of the first verse. The opening lines set the scene with a vivid image. I think the trout (forelle) in the meadow is depicted as dancing joyfully. So something like, \"In der Tieflands, da wallt ein Forellein,\" which translates to \"In the deep valleys, there swims a little trout.\" That's the opening line.\n",
      "\n",
      "Next, the trout is described as having red eyes that look like two stars. So I think it goes, \" mit Augen wie two Sterne sind ihm entgegen schauend,\" translating to \"with eyes like two stars, it gazes ahead.\"\n",
      "\n",
      "Then, Schubert adds some movement by writing about how the water flows from one meadow to another (from one pasture to another). So, \"Durchs Gebirgsgründen wallt ein Flüsschen, von einem Weidelesen zum andern,\" meaning \"Through the mountain meadows, a little stream flows from one pasture to another.\"\n",
      "\n",
      "Putting it all together, the first verse is about this lively trout in a beautiful natural setting. The imagery is pretty vivid, typical of Schubert's descriptive style.\n",
      "\n",
      "I should also consider the musicality here. The words are meant to flow naturally with the melody, so the rhythm and syllables probably match up well. The repetition in \"weidelesen zum andern\" adds a kind of lilt or bounce which fits nicely under the composer's notation.\n",
      "\n",
      "I might have gotten some details wrong since I'm relying on memory, but overall, these are the phrases that come to mind for the first verse of \"Die Forelle.\" It paints a lively, natural picture with the trout as a central character, capturing the essence Schubert was aiming for.\n",
      "</think>\n",
      "\n",
      "**Verse 1:**\n",
      "\n",
      "In der Tieflands, da wallt ein Forellein,  \n",
      "mit Augen wie two Sterne sind ihm entgegen schauend.  \n",
      "Durchs Gebirgsgründen wallt ein Flüsschen,  \n",
      "von einem Weidelesen zum andern.\n",
      "\n",
      "This verse vividly描绘了a lively trout in a deep valley, with eyes like two stars gazing ahead. It captures the essence of Schubert's descriptive style through natural imagery and flowing words that match the melody.\n"
     ]
    }
   ],
   "source": [
    "from openai import OpenAI\n",
    "\n",
    "\n",
    "client = OpenAI(\n",
    "    base_url = 'http://localhost:11434/v1', #url map to or localhost where the ollama server inside the container is listening\n",
    "    api_key='ollama', # required, but unused\n",
    ")\n",
    "\n",
    "completion = client.chat.completions.create( # sends a request to the chat completions endpoint of your API server (in this case, running on http://localhost:11434/v1, indeed ollama is like a web server)\n",
    "    model=\"deepseek-r1:8b\", # which model to use, attention: ollama model should be downloaded\n",
    "    messages=[\n",
    "        {\n",
    "            #sets the behavior and context for the model.\n",
    "            \"role\": \"system\", \n",
    "            \"content\": \"You're a helpful assistant.\"\n",
    "        },\n",
    "        {\n",
    "            # actual query \n",
    "            \"role\": \"user\",\n",
    "            \"content\": \"Write the first verse of the lied 'die forelle' by Franz Schubert.\",\n",
    "        },\n",
    "    ],\n",
    ")\n",
    "\n",
    "response = completion.choices[0].message.content\n",
    "    #choice[0] --> beacuse many answers can be returned\n",
    "print(response)\n"
   ]
  },
  {
   "cell_type": "code",
   "execution_count": 7,
   "metadata": {},
   "outputs": [],
   "source": [
    "with client.beta.chat.completions.stream( # sends a request to the chat completions endpoint of your API server (in this case, running on http://localhost:11434/v1, indeed ollama is like a web server)\n",
    "    model=\"deepseek-r1:8b\", # which model to use, attention: ollama model should be downloaded\n",
    "    messages=[\n",
    "        {\n",
    "            #sets the behavior and context for the model.\n",
    "            \"role\": \"system\", \n",
    "            \"content\": \"You're a helpful assistant.\"\n",
    "        },\n",
    "        {\n",
    "            # actual query \n",
    "            \"role\": \"user\",\n",
    "            \"content\": \"Write the first verse of the lied 'die forelle' by Franz Schubert.\",\n",
    "        },\n",
    "    ],\n",
    ")as stream:\n",
    "    for event in stream:\n",
    "        if event.type == \"tool_calls.function.arguments.delta\" or event.type == \"tool_calls.function.arguments.done\":\n",
    "            print(event)"
   ]
  }
 ],
 "metadata": {
  "kernelspec": {
   "display_name": "temp",
   "language": "python",
   "name": "python3"
  },
  "language_info": {
   "codemirror_mode": {
    "name": "ipython",
    "version": 3
   },
   "file_extension": ".py",
   "mimetype": "text/x-python",
   "name": "python",
   "nbconvert_exporter": "python",
   "pygments_lexer": "ipython3",
   "version": "3.10.16"
  }
 },
 "nbformat": 4,
 "nbformat_minor": 2
}
